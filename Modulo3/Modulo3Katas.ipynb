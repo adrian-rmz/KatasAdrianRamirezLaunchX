{
 "cells": [
  {
   "cell_type": "markdown",
   "metadata": {},
   "source": [
    "## Ejercicio - Escribir declaraciones if, else, y elif"
   ]
  },
  {
   "cell_type": "code",
   "execution_count": null,
   "metadata": {},
   "outputs": [],
   "source": [
    "# Añadir el código necesario para crear una variable que guarde la velocidad del asteroide.\n",
    "# Escribe una expresión de prueba para calcular si necesita una advertencia.\n",
    "# Agregue las instrucciones que se ejecutarán si la expresión de prueba es true o false.\n",
    "\n",
    "velocidad_asteroide = 19\n",
    "if velocidad_asteroide >= 20:\n",
    "    print(\"Advertencia, hay un avistamiento de asteroide\")\n",
    "else:\n",
    "    print(\"No hay ningún peligro\")"
   ]
  },
  {
   "cell_type": "code",
   "execution_count": null,
   "metadata": {},
   "outputs": [],
   "source": [
    "# Agrega el código para crear una variable para un asteroide que viaja a 19 km/s\n",
    "# Escribe varias expresiones de prueba para determinar si puedes ver el rayo de luz desde la tierra\n",
    "# Agrega las instrucciones que se ejecutarán si las expresiones de prueba son True o False\n",
    "\n",
    "velocidad_asteroide = 19\n",
    "if velocidad_asteroide > 20:\n",
    "    print(\"Se puede ver una luz de un posible asteroide\")\n",
    "elif velocidad_asteroide == 20:\n",
    "    print(\"Se puede ver una luz de un posible asteroide\")\n",
    "else:\n",
    "    print(\"No hay ningún peligro\")"
   ]
  },
  {
   "cell_type": "code",
   "execution_count": null,
   "metadata": {},
   "outputs": [],
   "source": [
    "# Agrega el código para crear nuevas variables para la velocidad y el tamaño del asteroide\n",
    "# Para probar el código, prueba con varias velocidades y tamaños\n",
    "# Escribe varias expresiones de prueba o combinaciones de expresiones de prueba para determinar qué mensaje se debe enviar a Tierra.\n",
    "\n",
    "velocidad_asteroide = 25\n",
    "tamano_asteroide = 40\n",
    "if velocidad_asteroide > 25 and tamano_asteroide > 25:\n",
    "    print('Advertencia, hay un asteroide de gran tamaño dirigiendose hacia la tierra')\n",
    "elif velocidad_asteroide >= 20:\n",
    "    print(\"Se puede ver una luz de un posible asteroide\")\n",
    "elif tamano_asteroide < 25:\n",
    "    print(\"No hay ningún peligro\")\n",
    "else:\n",
    "    print(\"No hay ningún peligro\")\n"
   ]
  }
 ],
 "metadata": {
  "language_info": {
   "name": "python"
  },
  "orig_nbformat": 4
 },
 "nbformat": 4,
 "nbformat_minor": 2
}
